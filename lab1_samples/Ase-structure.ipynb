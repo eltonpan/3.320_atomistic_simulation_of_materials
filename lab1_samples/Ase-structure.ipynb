{
 "cells": [
  {
   "cell_type": "markdown",
   "metadata": {
    "deletable": true,
    "editable": true
   },
   "source": [
    "# Making and manipulating structures with ASE\n",
    "For preparing and manipulating crystal structures we will be using the ASE Python library. The documentation is rather accessible and even includes a refresher of Python basics. You can read it here, in preparation for the first lab: https://wiki.fysik.dtu.dk/ase/python.html.\n",
    "Here we will learn various functionalities of ASE, particularly how to make crystal structures, generate supercells, remove an atom to form a vacancy, and change an atom’s position.\n",
    "\n",
    "ASE Atoms object holds all the information about our structure and has methods for manipulating it. Once we finish with the structurem, we will export it to a simple Python dictionary that is then used to generate the LAMMPS data and input files."
   ]
  },
  {
   "cell_type": "markdown",
   "metadata": {
    "deletable": true,
    "editable": true
   },
   "source": [
    "First we will create a crystal structure of Na metal. For this we will import the necessary spacegroup tools, so that we don't have to manually set up the cell and coordinates. "
   ]
  },
  {
   "cell_type": "code",
   "execution_count": 1,
   "metadata": {
    "deletable": true,
    "editable": true,
    "tags": []
   },
   "outputs": [],
   "source": [
    "from ase.spacegroup import crystal"
   ]
  },
  {
   "cell_type": "code",
   "execution_count": 2,
   "metadata": {
    "collapsed": false,
    "deletable": true,
    "editable": true,
    "jupyter": {
     "outputs_hidden": false
    }
   },
   "outputs": [],
   "source": [
    "a = 4.5\n",
    "Na_unitcell = crystal('Na', [(0,0,0)], spacegroup=229, cellpar=[a, a, a, 90, 90, 90])"
   ]
  },
  {
   "cell_type": "code",
   "execution_count": 3,
   "metadata": {
    "collapsed": false,
    "jupyter": {
     "outputs_hidden": false
    }
   },
   "outputs": [
    {
     "name": "stdout",
     "output_type": "stream",
     "text": [
      "hello\n"
     ]
    }
   ],
   "source": [
    "print('hello')"
   ]
  },
  {
   "cell_type": "markdown",
   "metadata": {
    "deletable": true,
    "editable": true
   },
   "source": [
    "Now we verify that our structure indeed has atoms in the right places"
   ]
  },
  {
   "cell_type": "code",
   "execution_count": 4,
   "metadata": {
    "collapsed": false,
    "deletable": true,
    "editable": true,
    "jupyter": {
     "outputs_hidden": false
    }
   },
   "outputs": [
    {
     "data": {
      "text/plain": [
       "array([[0.  , 0.  , 0.  ],\n",
       "       [2.25, 2.25, 2.25]])"
      ]
     },
     "execution_count": 4,
     "metadata": {},
     "output_type": "execute_result"
    }
   ],
   "source": [
    "Na_unitcell.positions"
   ]
  },
  {
   "cell_type": "code",
   "execution_count": 5,
   "metadata": {
    "collapsed": false,
    "deletable": true,
    "editable": true,
    "jupyter": {
     "outputs_hidden": false
    }
   },
   "outputs": [
    {
     "data": {
      "text/plain": [
       "['Na', 'Na']"
      ]
     },
     "execution_count": 5,
     "metadata": {},
     "output_type": "execute_result"
    }
   ],
   "source": [
    "Na_unitcell.get_chemical_symbols()"
   ]
  },
  {
   "cell_type": "markdown",
   "metadata": {
    "deletable": true,
    "editable": true
   },
   "source": [
    "We can make a supercell of this structure by rescaling the cell. Here we use NumPy's matrix capability."
   ]
  },
  {
   "cell_type": "code",
   "execution_count": 6,
   "metadata": {
    "collapsed": false,
    "deletable": true,
    "editable": true,
    "jupyter": {
     "outputs_hidden": false
    }
   },
   "outputs": [
    {
     "name": "stdout",
     "output_type": "stream",
     "text": [
      "[[2. 0. 0.]\n",
      " [0. 2. 0.]\n",
      " [0. 0. 2.]]\n"
     ]
    }
   ],
   "source": [
    "import numpy\n",
    "multiplier = numpy.identity(3) * 2\n",
    "print(multiplier)"
   ]
  },
  {
   "cell_type": "code",
   "execution_count": 7,
   "metadata": {
    "collapsed": false,
    "deletable": true,
    "editable": true,
    "jupyter": {
     "outputs_hidden": false
    },
    "scrolled": true
   },
   "outputs": [
    {
     "data": {
      "text/plain": [
       "array([[0.  , 0.  , 0.  ],\n",
       "       [2.25, 2.25, 2.25],\n",
       "       [0.  , 0.  , 4.5 ],\n",
       "       [2.25, 2.25, 6.75],\n",
       "       [0.  , 4.5 , 0.  ],\n",
       "       [2.25, 6.75, 2.25],\n",
       "       [0.  , 4.5 , 4.5 ],\n",
       "       [2.25, 6.75, 6.75],\n",
       "       [4.5 , 0.  , 0.  ],\n",
       "       [6.75, 2.25, 2.25],\n",
       "       [4.5 , 0.  , 4.5 ],\n",
       "       [6.75, 2.25, 6.75],\n",
       "       [4.5 , 4.5 , 0.  ],\n",
       "       [6.75, 6.75, 2.25],\n",
       "       [4.5 , 4.5 , 4.5 ],\n",
       "       [6.75, 6.75, 6.75]])"
      ]
     },
     "execution_count": 7,
     "metadata": {},
     "output_type": "execute_result"
    }
   ],
   "source": [
    "from ase.build import make_supercell\n",
    "Na_supercell = make_supercell(Na_unitcell, multiplier)\n",
    "Na_supercell.positions"
   ]
  },
  {
   "cell_type": "raw",
   "metadata": {},
   "source": [
    "We now have a structure with 16 atoms. "
   ]
  },
  {
   "cell_type": "markdown",
   "metadata": {
    "deletable": true,
    "editable": true
   },
   "source": [
    "It is possible to change the position of the first atom directly like this:"
   ]
  },
  {
   "cell_type": "code",
   "execution_count": 8,
   "metadata": {
    "collapsed": false,
    "deletable": true,
    "editable": true,
    "jupyter": {
     "outputs_hidden": false
    }
   },
   "outputs": [],
   "source": [
    "Na_supercell.positions[0] = (0.5, 0.5, 0.5)"
   ]
  },
  {
   "cell_type": "markdown",
   "metadata": {
    "deletable": true,
    "editable": true
   },
   "source": [
    "Similarly, we can change the type of the first atom by reassigning the atomic number"
   ]
  },
  {
   "cell_type": "code",
   "execution_count": 9,
   "metadata": {
    "collapsed": false,
    "deletable": true,
    "editable": true,
    "jupyter": {
     "outputs_hidden": false
    }
   },
   "outputs": [
    {
     "name": "stdout",
     "output_type": "stream",
     "text": [
      "[11 11 11 11 11 11 11 11 11 11 11 11 11 11 11 11]\n"
     ]
    },
    {
     "data": {
      "text/plain": [
       "['Li',\n",
       " 'Na',\n",
       " 'Na',\n",
       " 'Na',\n",
       " 'Na',\n",
       " 'Na',\n",
       " 'Na',\n",
       " 'Na',\n",
       " 'Na',\n",
       " 'Na',\n",
       " 'Na',\n",
       " 'Na',\n",
       " 'Na',\n",
       " 'Na',\n",
       " 'Na',\n",
       " 'Na']"
      ]
     },
     "execution_count": 9,
     "metadata": {},
     "output_type": "execute_result"
    }
   ],
   "source": [
    "print(Na_supercell.numbers)\n",
    "Na_supercell.numbers[0] = 3\n",
    "Na_supercell.get_chemical_symbols()"
   ]
  },
  {
   "cell_type": "markdown",
   "metadata": {
    "deletable": true,
    "editable": true
   },
   "source": [
    "Or we can remove an atom altogether to form a vacancy. We simply use the pop() method of Python lists."
   ]
  },
  {
   "cell_type": "code",
   "execution_count": 10,
   "metadata": {
    "collapsed": false,
    "deletable": true,
    "editable": true,
    "jupyter": {
     "outputs_hidden": false
    }
   },
   "outputs": [
    {
     "data": {
      "text/plain": [
       "Atom('Na', [6.75, 6.75, 6.75])"
      ]
     },
     "execution_count": 10,
     "metadata": {},
     "output_type": "execute_result"
    }
   ],
   "source": [
    "Na_supercell.pop(15)"
   ]
  },
  {
   "cell_type": "markdown",
   "metadata": {
    "deletable": true,
    "editable": true
   },
   "source": [
    "Now let's write the structure to a file so was can visualize what we've done to it. Crystallographic Information File (CIF) format is the most common for periodic structures today, and is understood by most structure visualizers and converters."
   ]
  },
  {
   "cell_type": "code",
   "execution_count": 11,
   "metadata": {
    "collapsed": false,
    "deletable": true,
    "editable": true,
    "jupyter": {
     "outputs_hidden": false
    }
   },
   "outputs": [],
   "source": [
    "from ase.io import write\n",
    "write('sc.cif', Na_supercell)"
   ]
  },
  {
   "cell_type": "markdown",
   "metadata": {
    "deletable": true,
    "editable": true
   },
   "source": [
    "We cans use VESTA to look at the result."
   ]
  },
  {
   "cell_type": "markdown",
   "metadata": {
    "deletable": true,
    "editable": true
   },
   "source": [
    "To generation a surface slab supercell we can use ASE builder like so, and write it to a file"
   ]
  },
  {
   "cell_type": "code",
   "execution_count": 12,
   "metadata": {
    "collapsed": false,
    "deletable": true,
    "editable": true,
    "jupyter": {
     "outputs_hidden": false
    }
   },
   "outputs": [],
   "source": [
    "from ase.build import bcc100\n",
    "slab = bcc100('Na', size=(2,4,3), vacuum = 10.0)\n",
    "write('slab.cif', slab)"
   ]
  },
  {
   "cell_type": "markdown",
   "metadata": {
    "deletable": true,
    "editable": true
   },
   "source": [
    "You can look at the structure in VESTA and also get the atomic positions and cell information"
   ]
  },
  {
   "cell_type": "code",
   "execution_count": 13,
   "metadata": {
    "collapsed": false,
    "deletable": true,
    "editable": true,
    "jupyter": {
     "outputs_hidden": false
    },
    "scrolled": true
   },
   "outputs": [
    {
     "data": {
      "text/plain": [
       "array([[ 0.   ,  0.   , 10.   ],\n",
       "       [ 4.23 ,  0.   , 10.   ],\n",
       "       [ 0.   ,  4.23 , 10.   ],\n",
       "       [ 4.23 ,  4.23 , 10.   ],\n",
       "       [ 0.   ,  8.46 , 10.   ],\n",
       "       [ 4.23 ,  8.46 , 10.   ],\n",
       "       [ 0.   , 12.69 , 10.   ],\n",
       "       [ 4.23 , 12.69 , 10.   ],\n",
       "       [ 2.115,  2.115, 12.115],\n",
       "       [ 6.345,  2.115, 12.115],\n",
       "       [ 2.115,  6.345, 12.115],\n",
       "       [ 6.345,  6.345, 12.115],\n",
       "       [ 2.115, 10.575, 12.115],\n",
       "       [ 6.345, 10.575, 12.115],\n",
       "       [ 2.115, 14.805, 12.115],\n",
       "       [ 6.345, 14.805, 12.115],\n",
       "       [ 0.   ,  0.   , 14.23 ],\n",
       "       [ 4.23 ,  0.   , 14.23 ],\n",
       "       [ 0.   ,  4.23 , 14.23 ],\n",
       "       [ 4.23 ,  4.23 , 14.23 ],\n",
       "       [ 0.   ,  8.46 , 14.23 ],\n",
       "       [ 4.23 ,  8.46 , 14.23 ],\n",
       "       [ 0.   , 12.69 , 14.23 ],\n",
       "       [ 4.23 , 12.69 , 14.23 ]])"
      ]
     },
     "execution_count": 13,
     "metadata": {},
     "output_type": "execute_result"
    }
   ],
   "source": [
    "slab.positions"
   ]
  },
  {
   "cell_type": "code",
   "execution_count": 14,
   "metadata": {
    "collapsed": false,
    "deletable": true,
    "editable": true,
    "jupyter": {
     "outputs_hidden": false
    }
   },
   "outputs": [
    {
     "data": {
      "text/plain": [
       "Cell([8.46, 16.92, 24.23])"
      ]
     },
     "execution_count": 14,
     "metadata": {},
     "output_type": "execute_result"
    }
   ],
   "source": [
    "slab.cell"
   ]
  },
  {
   "cell_type": "markdown",
   "metadata": {
    "deletable": true,
    "editable": true
   },
   "source": [
    "In the lab you will need to perform numerical sweeps of several parameters. You can use Numpy"
   ]
  },
  {
   "cell_type": "code",
   "execution_count": 15,
   "metadata": {
    "collapsed": false,
    "deletable": true,
    "editable": true,
    "jupyter": {
     "outputs_hidden": false
    }
   },
   "outputs": [
    {
     "name": "stdout",
     "output_type": "stream",
     "text": [
      "[-5.         -3.88888889 -2.77777778 -1.66666667 -0.55555556  0.55555556\n",
      "  1.66666667  2.77777778  3.88888889  5.        ]\n"
     ]
    }
   ],
   "source": [
    "x = numpy.linspace(-5,5,10)\n",
    "y = x*x\n",
    "print(x)"
   ]
  },
  {
   "cell_type": "markdown",
   "metadata": {
    "deletable": true,
    "editable": true
   },
   "source": [
    "To plot the results, you can use Matplotlib"
   ]
  },
  {
   "cell_type": "code",
   "execution_count": 16,
   "metadata": {
    "collapsed": false,
    "deletable": true,
    "editable": true,
    "jupyter": {
     "outputs_hidden": false
    },
    "scrolled": true
   },
   "outputs": [
    {
     "data": {
      "image/png": "[encoded data removed]",
      "text/plain": [
       "<Figure size 640x480 with 1 Axes>"
      ]
     },
     "metadata": {},
     "output_type": "display_data"
    }
   ],
   "source": [
    "import matplotlib.pyplot as plt\n",
    "plt.plot(x,y)\n",
    "plt.show()"
   ]
  },
  {
   "cell_type": "markdown",
   "metadata": {
    "jupyter": {
     "outputs_hidden": true
    }
   },
   "source": [
    "# Creating FCC Ag slabs and calculating their energies"
   ]
  },
  {
   "cell_type": "markdown",
   "metadata": {},
   "source": [
    "Using lattice param of 4.089 A by EAM potential found in Problem 1  "
   ]
  },
  {
   "cell_type": "code",
   "execution_count": 17,
   "metadata": {},
   "outputs": [],
   "source": [
    "from ase.build import fcc100"
   ]
  },
  {
   "cell_type": "code",
   "execution_count": 20,
   "metadata": {},
   "outputs": [],
   "source": [
    "# Generate slabs of different sizes\n",
    "\n",
    "unit_cell_dims = [\n",
    "                  2,\n",
    "                  3,\n",
    "                  4,\n",
    "                 ]\n",
    "\n",
    "for bool in [True, False]:\n",
    "    for unit_cell_dim in unit_cell_dims:\n",
    "        # Build slab\n",
    "        slab = fcc100('Ag', size=(unit_cell_dim ,unit_cell_dim ,unit_cell_dim), a = 4.089, vacuum = 10.0)\n",
    "\n",
    "        # Remove 1 atom\n",
    "        assert unit_cell_dim > 1\n",
    "\n",
    "        with_vac = bool\n",
    "        \n",
    "        if with_vac:\n",
    "            slab.pop(0)\n",
    "            write(f'Ag_slab_sc{unit_cell_dim}{unit_cell_dim}{unit_cell_dim}_with_vac.cif', slab)\n",
    "        else:\n",
    "            write(f'Ag_slab_sc{unit_cell_dim}{unit_cell_dim}{unit_cell_dim}.cif', slab)"
   ]
  },
  {
   "cell_type": "code",
   "execution_count": null,
   "metadata": {},
   "outputs": [],
   "source": []
  }
 ],
 "metadata": {
  "kernelspec": {
   "display_name": "3320",
   "language": "python",
   "name": "3320"
  },
  "language_info": {
   "codemirror_mode": {
    "name": "ipython",
    "version": 3
   },
   "file_extension": ".py",
   "mimetype": "text/x-python",
   "name": "python",
   "nbconvert_exporter": "python",
   "pygments_lexer": "ipython3",
   "version": "3.11.5"
  }
 },
 "nbformat": 4,
 "nbformat_minor": 4
}
